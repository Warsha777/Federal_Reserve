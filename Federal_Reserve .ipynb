{
 "cells": [
  {
   "cell_type": "markdown",
   "id": "b136cf68",
   "metadata": {},
   "source": [
    "### Statistics Question 1"
   ]
  },
  {
   "cell_type": "markdown",
   "id": "de008529",
   "metadata": {},
   "source": [
    "#### Use a web scraping method to download the data for the latest 10-year period."
   ]
  },
  {
   "cell_type": "code",
   "execution_count": 1,
   "id": "3ad83d4d",
   "metadata": {},
   "outputs": [],
   "source": [
    "import requests\n",
    "import bs4\n",
    "import pandas as pd\n",
    "\n",
    "def fetch_fred_data(url):\n",
    "    page = requests.get(url)\n",
    "    soup = bs4.BeautifulSoup(page.text, \"lxml\")\n",
    "    table = soup.find('table', id='data-table-observations')\n",
    "    headers = [th.text.strip() for th in table.find('thead').find_all('th')]\n",
    "    data = [[cell.text.strip() for cell in row.find_all(['th', 'td'])] \n",
    "            for row in table.find('tbody').find_all('tr')]\n",
    "    df = pd.DataFrame(data, columns=headers)\n",
    "    df['DATE'] = pd.to_datetime(df['DATE'])\n",
    "    return df\n",
    "\n",
    "urls = {\n",
    "    \"federal_funds\": \"https://fred.stlouisfed.org/data/FEDFUNDS\",\n",
    "    \"tb_1yr\": \"https://fred.stlouisfed.org/data/TB1YR\",\n",
    "    \"gs_10yr\": \"https://fred.stlouisfed.org/data/GS10\"\n",
    "}\n",
    "\n",
    "df1, df2, df3 = [fetch_fred_data(url) for url in urls.values()]"
   ]
  },
  {
   "cell_type": "code",
   "execution_count": 9,
   "id": "97565c20",
   "metadata": {},
   "outputs": [],
   "source": [
    "def filter_data(df, name, start=\"2015-01-01\", end=\"2025-01-01\"):\n",
    "    filtered_df = df[(df['DATE'] >= start) & (df['DATE'] <= end)]\n",
    "    print(f\"{name}\\n\")\n",
    "    print(filtered_df, \"\\n\")\n",
    "    return filtered_df\n",
    "Federal_funds = filter_data(df1, \"Federal_funds\")\n",
    "One_year_treasury_bill = filter_data(df2, \"One_year_treasury_bill\")\n",
    "Ten_year_treasury_constant_maturity = filter_data(df3, \"Ten_year_treasury_constant_maturity\")"
   ]
  },
  {
   "cell_type": "markdown",
   "id": "53acc0f3",
   "metadata": {},
   "source": [
    "#### a) Select appropriate descriptive statistics to explain the behaviour of the federal_funds,1_year_treasury_bill and 10_year_treasury_constant_maturity for the past 10 years "
   ]
  },
  {
   "cell_type": "markdown",
   "id": "67953d48",
   "metadata": {},
   "source": [
    "##### Central Tendency, Dispersion, Distribution Shape"
   ]
  },
  {
   "cell_type": "code",
   "execution_count": 11,
   "id": "39367b7b",
   "metadata": {},
   "outputs": [],
   "source": [
    "from scipy.stats import skew, kurtosis\n",
    "\n",
    "# Function to calculate statistics\n",
    "def stats_summary(series):\n",
    "    series = pd.to_numeric(series, errors='coerce')\n",
    "    return {\n",
    "      '🔶 Central Tendency': '', 'Mean': series.mean(), 'Median': series.median(),\n",
    "      'Mode': series.mode().iloc[0] if not series.mode().empty else None, '🔶 Dispersion': '', 'Std Dev': series.std(),\n",
    "      'Variance': series.var(), 'Range': series.max() - series.min(), 'IQR': series.quantile(0.75) - series.quantile(0.25),  \n",
    "      '🔶 Distribution Shape': '', 'Skewness': skew(series, nan_policy='omit'), 'Kurtosis': kurtosis(series, nan_policy='omit')  \n",
    "    }\n",
    "# Datasets\n",
    "datasets = {\n",
    "    'Federal Funds': Federal_funds['VALUE'],\n",
    "    '1Y Treasury Bill': One_year_treasury_bill['VALUE'],\n",
    "    '10Y Treasury': Ten_year_treasury_constant_maturity['VALUE']\n",
    "}\n",
    "# Compute statistics for each dataset\n",
    "stats = {name: stats_summary(data) for name, data in datasets.items()}\n",
    "\n",
    "# Convert to DataFrame\n",
    "df_final = pd.DataFrame(stats)\n",
    "\n",
    "# Ensure proper order of index\n",
    "df_final = df_final.reindex([\n",
    "    '🔶 Central Tendency', 'Mean', 'Median', 'Mode', \n",
    "    '🔶 Dispersion', 'Std Dev', 'Variance', 'Range', 'IQR', \n",
    "    '🔶 Distribution Shape', 'Skewness', 'Kurtosis'\n",
    "])\n",
    "# Display\n",
    "df_final\n"
   ]
  },
  {
   "cell_type": "markdown",
   "id": "f2b789f4",
   "metadata": {},
   "source": [
    "#### b) Select appropriate visualizing plots, and explain the behaviour of the federal_funds,1_year_treasury_bill and 10_year_treasury_constant_maturity for the said period"
   ]
  },
  {
   "cell_type": "code",
   "execution_count": 10,
   "id": "41c83ec3",
   "metadata": {
    "scrolled": false
   },
   "outputs": [],
   "source": [
    "import matplotlib.pyplot as plt\n",
    "import seaborn as sns\n",
    "import pandas as pd\n",
    "\n",
    "def plot_data(df, title): #### Function to create plots for a given dataset\n",
    "\n",
    "    df_copy = df.copy() # Create a copy of the DataFrame to avoid modifying the original\n",
    "    df_copy['VALUE'] = pd.to_numeric(df_copy['VALUE'], errors='coerce')  # Convert to numeric, set errors to 'coerce'\n",
    "    df_copy = df_copy.dropna(subset=['VALUE'])  # Drop rows where 'VALUE' is NaN\n",
    "    \n",
    "    ### Histogram\n",
    "    plt.figure(figsize=(14, 3))\n",
    "    plt.subplot(1, 3, 1)\n",
    "    plt.hist(df_copy['VALUE'], bins=30, color='skyblue', edgecolor='black')\n",
    "    plt.title(f\"{title} - Histogram\")\n",
    "    plt.xlabel(\"Value\")\n",
    "    plt.ylabel(\"Frequency\")   \n",
    "    \n",
    "    ### Scatter plot (assuming 'DATE' is datetime, if not, convert it)\n",
    "    plt.subplot(1, 3, 2)\n",
    "    plt.scatter(df_copy['DATE'], df_copy['VALUE'], color='orange', alpha=0.5)\n",
    "    plt.title(f\"{title} - Scatter Plot\")\n",
    "    plt.xlabel(\"Date\")\n",
    "    plt.ylabel(\"Value\")   \n",
    "    \n",
    "    ### Boxplot (using 'VALUE' for the distribution)\n",
    "    plt.subplot(1, 3, 3)\n",
    "    sns.boxplot(x=df_copy['VALUE'], color='lightgreen')  # Fix: Use 'x' instead of 'data'\n",
    "    plt.title(f\"{title} - Boxplot\")\n",
    "    plt.xlabel(\"Value\")\n",
    "\n",
    "    plt.tight_layout()\n",
    "    plt.show()\n",
    "\n",
    "plot_data(Federal_funds, \"Federal Funds\")\n",
    "plot_data(One_year_treasury_bill, \"1Y Treasury Bill\")\n",
    "plot_data(Ten_year_treasury_constant_maturity, \"10Y Treasury\")"
   ]
  },
  {
   "cell_type": "markdown",
   "id": "c2f49b72",
   "metadata": {},
   "source": [
    "#### c) What are the barriers that you found in the dataset (list a minimum of three) and explain how they influence descriptive statistics and data visualization"
   ]
  },
  {
   "cell_type": "code",
   "execution_count": 12,
   "id": "9092f44b",
   "metadata": {
    "scrolled": true
   },
   "outputs": [],
   "source": [
    "# Check missing values\n",
    "print(Federal_funds.isnull().sum())\n",
    "print(One_year_treasury_bill.isnull().sum())\n",
    "print(Ten_year_treasury_constant_maturity.isnull().sum())"
   ]
  },
  {
   "cell_type": "code",
   "execution_count": 13,
   "id": "7675900b",
   "metadata": {},
   "outputs": [],
   "source": [
    "# Check for duplicates\n",
    "print(Federal_funds.duplicated().sum())\n",
    "print(One_year_treasury_bill.duplicated().sum())\n",
    "print(Ten_year_treasury_constant_maturity.duplicated().sum())"
   ]
  },
  {
   "cell_type": "code",
   "execution_count": 14,
   "id": "abfa8b3a",
   "metadata": {},
   "outputs": [],
   "source": [
    "from scipy.stats import zscore\n",
    "\n",
    "# Function to detect outliers using Z-score\n",
    "def find_outliers_zscore(df, column_name):\n",
    "    return df[abs(zscore(df[column_name].dropna())) > 3]  # Drop NaNs before applying zscore\n",
    "\n",
    "# Process all three datasets\n",
    "for df, name in zip([Federal_funds, One_year_treasury_bill, Ten_year_treasury_constant_maturity], \n",
    "                    ['Federal Funds', 'One Year Treasury Bill', 'Ten Year Treasury']):\n",
    "    \n",
    "    df = df.copy()  # Explicitly create a copy to avoid SettingWithCopyWarning   \n",
    "    # Convert 'VALUE' column to numeric, handling errors\n",
    "    df.loc[:, 'VALUE'] = pd.to_numeric(df['VALUE'], errors='coerce')   \n",
    "    print(f\"{name} - Missing Values in 'VALUE': {df['VALUE'].isna().sum()}\")  \n",
    "    \n",
    "    # Drop NaNs before detecting outliers\n",
    "    df_clean = df.dropna(subset=['VALUE'])\n",
    "    outliers = find_outliers_zscore(df_clean, 'VALUE')    \n",
    "    print(f\"{name} Outliers (Z-score): {len(outliers)}\")"
   ]
  },
  {
   "cell_type": "code",
   "execution_count": 15,
   "id": "ee36f241",
   "metadata": {},
   "outputs": [],
   "source": [
    "# Check for invalid dates without conversion\n",
    "invalid_dates_federal = pd.to_datetime(Federal_funds['DATE'], errors='coerce').isna().sum()\n",
    "invalid_dates_one_year = pd.to_datetime(One_year_treasury_bill['DATE'], errors='coerce').isna().sum()\n",
    "invalid_dates_ten_year = pd.to_datetime(Ten_year_treasury_constant_maturity['DATE'], errors='coerce').isna().sum()\n",
    "\n",
    "# Print the counts of invalid dates (NaT values)\n",
    "print(f\"Invalid dates in Federal Funds: {invalid_dates_federal}\")\n",
    "print(f\"Invalid dates in One Year Treasury Bill: {invalid_dates_one_year}\")\n",
    "print(f\"Invalid dates in Ten Year Treasury Constant Maturity: {invalid_dates_ten_year}\")"
   ]
  },
  {
   "cell_type": "code",
   "execution_count": null,
   "id": "cc165f5e",
   "metadata": {},
   "outputs": [],
   "source": []
  }
 ],
 "metadata": {
  "kernelspec": {
   "display_name": "Python 3 (ipykernel)",
   "language": "python",
   "name": "python3"
  },
  "language_info": {
   "codemirror_mode": {
    "name": "ipython",
    "version": 3
   },
   "file_extension": ".py",
   "mimetype": "text/x-python",
   "name": "python",
   "nbconvert_exporter": "python",
   "pygments_lexer": "ipython3",
   "version": "3.9.13"
  }
 },
 "nbformat": 4,
 "nbformat_minor": 5
}
